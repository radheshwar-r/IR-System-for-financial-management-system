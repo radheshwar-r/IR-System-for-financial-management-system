{
 "cells": [
  {
   "cell_type": "code",
   "execution_count": 1,
   "id": "cebdf789",
   "metadata": {},
   "outputs": [
    {
     "name": "stdout",
     "output_type": "stream",
     "text": [
      "134\n"
     ]
    }
   ],
   "source": [
    "import pandas as pd \n",
    "df=pd.read_csv(\"statement.csv\")\n",
    "t=df[\"PARTICULARS\"]\n",
    "t=t.apply(lambda x:x.lower())\n",
    "text =t.replace(regex=True).apply(lambda x:x.replace(\"/\",\" \").replace(\"@\",\" \"))\n",
    "labels = {\"institute\":\"salary\",\n",
    "           \"uma\":\"fund transfer\",\"radha\":\"fund transfer\",\"sanjay\":\"fund transfer\",\"jemy\":\"fund transfer\",\"swati\":\"fund transfer\",\"pragati\":\"fund transfer\",\"atul\":\"fund transfer\",\"hiruthick\":\"fund transfer\",\n",
    "          \"amazon\": \"shopping\", \"flipkart\": \"shopping\",\n",
    "          \"swiggy\":\"food\",\"zomato\":\"food\",\"dinner\":\"food\",\"snacks\":\"food\",\"lunch\":\"food\",\"tea\":\"food\",\"q72482598\":\"food\",\n",
    "          \"fees\":\"fees\",\n",
    "          \"rent\":\"bills\",\"electricity\":\"bills\",\"recharge\":\"bills\",\"topup\":\"bills\",\"phone\":\"bills\",\"kiran\":\"bills\",\n",
    "          \"ppf\":\"investments\",\"stock\":\"investments\",\"crpto\":\"investments\",\n",
    "          \"cash\":\"cash\",\"atm\":\"cash\",\n",
    "          \"auto\":\"travel\",\"petrol\":\"travel\",\"flight\":\"travel\",\"irctc\":\"travel\",\n",
    "          \"dmart\":\"utilities\",\"grofers\":\"utilities\",\"stores\":\"utilities\",\"medicine\":\"utilities\",\"pharmacy\":\"utilities\"\n",
    "         }\n",
    "labs = []\n",
    "for i in text:\n",
    "    f = 0\n",
    "    for j in list(labels.keys()):\n",
    "        if j in i:\n",
    "            labs.append(labels[j])\n",
    "            f = 1\n",
    "            break\n",
    "    if f == 0:\n",
    "        labs.append(\"miscellaneous\")\n",
    "print(len(labs))"
   ]
  },
  {
   "cell_type": "code",
   "execution_count": 7,
   "id": "2ae55e69",
   "metadata": {},
   "outputs": [
    {
     "data": {
      "image/png": "[encoded data removed]",
      "text/plain": [
       "<Figure size 432x288 with 1 Axes>"
      ]
     },
     "metadata": {},
     "output_type": "display_data"
    }
   ],
   "source": [
    "d=df[\"DEPOSITS\"]\n",
    "w=df[\"WITHDRAWALS\"]\n",
    "sal=0\n",
    "shop=0\n",
    "fd=0\n",
    "fee=0\n",
    "bill=0\n",
    "inv=0\n",
    "cash=0\n",
    "fund=0\n",
    "tl=0\n",
    "ut=0\n",
    "mis=0\n",
    "\n",
    "j=0\n",
    "for i in labs:\n",
    "    if(i==\"salary\"):\n",
    "        sal=sal+d[j]-w[j]\n",
    "    if(i==\"shopping\"):\n",
    "        shop=shop+d[j]-w[j]\n",
    "    if(i==\"food\"):\n",
    "        fd=fd+d[j]-w[j]\n",
    "    if(i==\"fees\"):\n",
    "        fee=fee+d[j]-w[j]\n",
    "    if(i==\"bills\"):\n",
    "        bill=bill+d[j]-w[j]\n",
    "    if(i==\"investments\"):\n",
    "        inv=inv+d[j]-w[j]\n",
    "    if(i==\"cash\"):\n",
    "        cash=cash+d[j]-w[j]\n",
    "    if(i==\"fund transfer\"):\n",
    "        fund=fund+d[j]-w[j]\n",
    "    if(i==\"travel\"):\n",
    "        tl=tl+d[j]-w[j]\n",
    "    if(i==\"utilities\"):\n",
    "        ut=ut+d[j]-w[j]\n",
    "    if(i==\"miscellaneous\"):\n",
    "        mis=mis+d[j]-w[j]\n",
    "    j=j+1\n",
    "\n",
    "import networkx as nx\n",
    "G = nx.DiGraph()\n",
    "  \n",
    "edges = [('salary', 'radheshwar'),('radheshwar','salary'),  \n",
    "('radheshwar', 'fund transfer'),('fund transfer','radheshwar'),\n",
    "('radheshwar', 'shopping'),\n",
    "('radheshwar', 'fees'),\n",
    "('radheshwar', 'bills'),\n",
    "('radheshwar', 'investments'),\n",
    "('radheshwar', 'cash'),\n",
    "('radheshwar', 'travel'),\n",
    "('radheshwar', 'utilities'),\n",
    "('radheshwar', 'food'),\n",
    "('radheshwar', 'miscellaneous')]\n",
    "  \n",
    "G.add_edges_from(edges)\n",
    "nx.draw_networkx(G, with_labels = True)"
   ]
  },
  {
   "cell_type": "code",
   "execution_count": null,
   "id": "40a76387",
   "metadata": {},
   "outputs": [],
   "source": []
  },
  {
   "cell_type": "code",
   "execution_count": 4,
   "id": "57e2194d",
   "metadata": {},
   "outputs": [
    {
     "name": "stdout",
     "output_type": "stream",
     "text": [
      "{'salary': 35760.0, 'food': -1352.0, 'fees': -64850.0, 'bills': -9000.0, 'travel': -9852.92, 'utilities': -308.0, 'investments': -5000.0, 'cash': -7000.0, 'shopping': -798.0, 'fund transfer': 23476.0, 'miscellaneous': -9687.0}\n"
     ]
    }
   ],
   "source": [
    "amount = {\n",
    "        'salary' : sal,\n",
    "        'food' : fd,\n",
    "        'fees' : fee,\n",
    "        'bills' : bill,\n",
    "        'travel' : tl,\n",
    "        'utilities' : ut,\n",
    "        'investments' : inv,\n",
    "        'cash' : cash,\n",
    "        'travel' : tl,\n",
    "        'shopping' : shop,\n",
    "        'fund transfer' : fund,\n",
    "        'miscellaneous' : mis,\n",
    "        }\n",
    "print(amount)"
   ]
  },
  {
   "cell_type": "code",
   "execution_count": null,
   "id": "375ebc0a",
   "metadata": {},
   "outputs": [],
   "source": []
  }
 ],
 "metadata": {
  "kernelspec": {
   "display_name": "Python 3 (ipykernel)",
   "language": "python",
   "name": "python3"
  },
  "language_info": {
   "codemirror_mode": {
    "name": "ipython",
    "version": 3
   },
   "file_extension": ".py",
   "mimetype": "text/x-python",
   "name": "python",
   "nbconvert_exporter": "python",
   "pygments_lexer": "ipython3",
   "version": "3.10.6"
  }
 },
 "nbformat": 4,
 "nbformat_minor": 5
}
